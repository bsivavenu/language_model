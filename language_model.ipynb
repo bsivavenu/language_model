{
  "nbformat": 4,
  "nbformat_minor": 0,
  "metadata": {
    "colab": {
      "name": "language_model.ipynb",
      "version": "0.3.2",
      "provenance": [],
      "collapsed_sections": [],
      "include_colab_link": true
    },
    "kernelspec": {
      "name": "python3",
      "display_name": "Python 3"
    },
    "accelerator": "GPU"
  },
  "cells": [
    {
      "cell_type": "markdown",
      "metadata": {
        "id": "view-in-github",
        "colab_type": "text"
      },
      "source": [
        "<a href=\"https://colab.research.google.com/github/bsivavenu/language_model/blob/master/language_model.ipynb\" target=\"_parent\"><img src=\"https://colab.research.google.com/assets/colab-badge.svg\" alt=\"Open In Colab\"/></a>"
      ]
    },
    {
      "cell_type": "code",
      "metadata": {
        "id": "1b8tOUeSGxDk",
        "colab_type": "code",
        "colab": {}
      },
      "source": [
        ""
      ],
      "execution_count": 0,
      "outputs": []
    },
    {
      "cell_type": "code",
      "metadata": {
        "id": "qp45FAZIG85Q",
        "colab_type": "code",
        "colab": {}
      },
      "source": [
        "# Clone the entire repo.\n",
        "!git clone -l -s git://github.com/jakevdp/PythonDataScienceHandbook.git cloned-repo\n",
        "%cd cloned-repo\n",
        "!ls"
      ],
      "execution_count": 0,
      "outputs": []
    },
    {
      "cell_type": "code",
      "metadata": {
        "id": "fU5Wpg1gG83o",
        "colab_type": "code",
        "colab": {
          "base_uri": "https://localhost:8080/",
          "height": 67
        },
        "outputId": "72337f04-e29a-4de1-8f06-9f923c418810"
      },
      "source": [
        "# Fetch a single <1MB file using the raw GitHub URL.\n",
        "!curl --remote-name \\\n",
        "     -H 'Accept: application/vnd.github.v3.raw' \\\n",
        "     --location https://gist.githubusercontent.com/mohdsanadzakirizvi/3a5a80ac8e32cdb15b86f9faea636cee/raw/be9c79ca1e12473ef4def98f3c01ae804f4de984/decl_independance.txt"
      ],
      "execution_count": 1,
      "outputs": [
        {
          "output_type": "stream",
          "text": [
            "  % Total    % Received % Xferd  Average Speed   Time    Time     Time  Current\n",
            "                                 Dload  Upload   Total   Spent    Left  Speed\n",
            "\r  0     0    0     0    0     0      0      0 --:--:-- --:--:-- --:--:--     0\r100  8120  100  8120    0     0  53774      0 --:--:-- --:--:-- --:--:-- 53774\n"
          ],
          "name": "stdout"
        }
      ]
    },
    {
      "cell_type": "code",
      "metadata": {
        "id": "Pr6syhq0HCcd",
        "colab_type": "code",
        "colab": {
          "base_uri": "https://localhost:8080/",
          "height": 34
        },
        "outputId": "ba439ff3-94fe-4b52-8ac7-735a40cda19c"
      },
      "source": [
        "ls"
      ],
      "execution_count": 2,
      "outputs": [
        {
          "output_type": "stream",
          "text": [
            "decl_independance.txt  \u001b[0m\u001b[01;34msample_data\u001b[0m/\n"
          ],
          "name": "stdout"
        }
      ]
    },
    {
      "cell_type": "code",
      "metadata": {
        "id": "j3nlgBMlHF1F",
        "colab_type": "code",
        "colab": {
          "base_uri": "https://localhost:8080/",
          "height": 34
        },
        "outputId": "48671c6a-0e71-4af8-b9c8-ec5060490933"
      },
      "source": [
        "import numpy as np\n",
        "import pandas as pd\n",
        "from keras.utils import to_categorical\n",
        "from keras.preprocessing.sequence import pad_sequences\n",
        "from keras.models import Sequential\n",
        "from keras.layers import LSTM, Dense, GRU, Embedding\n",
        "from keras.callbacks import EarlyStopping, ModelCheckpoint\n"
      ],
      "execution_count": 3,
      "outputs": [
        {
          "output_type": "stream",
          "text": [
            "Using TensorFlow backend.\n"
          ],
          "name": "stderr"
        }
      ]
    },
    {
      "cell_type": "code",
      "metadata": {
        "id": "7DtfM66zIBRW",
        "colab_type": "code",
        "colab": {
          "base_uri": "https://localhost:8080/",
          "height": 54
        },
        "outputId": "5d27c1d3-e971-49f1-ad34-12b31431430a"
      },
      "source": [
        "data_text = open('decl_independance.txt').read()\n",
        "data_text"
      ],
      "execution_count": 6,
      "outputs": [
        {
          "output_type": "execute_result",
          "data": {
            "text/plain": [
              "\"The unanimous Declaration of the thirteen united States of America, When in the Course of human events, it becomes necessary for one people to dissolve the political bands which have connected them with another, and to assume among the powers of the earth, the separate and equal station to which the Laws of Nature and of Nature's God entitle them, a decent respect to the opinions of mankind requires that they should declare the causes which impel them to the separation.\\n\\nWe hold these truths to be self-evident, that all men are created equal, that they are endowed by their Creator with certain unalienable Rights, that among these are Life, Liberty and the pursuit of Happiness.--That to secure these rights, Governments are instituted among Men, deriving their just powers from the consent of the governed, --That whenever any Form of Government becomes destructive of these ends, it is the Right of the People to alter or to abolish it, and to institute new Government, laying its foundation on such principles and organizing its powers in such form, as to them shall seem most likely to effect their Safety and Happiness. Prudence, indeed, will dictate that Governments long established should not be changed for light and transient causes; and accordingly all experience hath shewn, that mankind are more disposed to suffer, while evils are sufferable, than to right themselves by abolishing the forms to which they are accustomed. But when a long train of abuses and usurpations, pursuing invariably the same Object evinces a design to reduce them under absolute Despotism, it is their right, it is their duty, to throw off such Government, and to provide new Guards for their future security.--Such has been the patient sufferance of these Colonies; and such is now the necessity which constrains them to alter their former Systems of Government. The history of the present King of Great Britain is a history of repeated injuries and usurpations, all having in direct object the establishment of an absolute Tyranny over these States. To prove this, let Facts be submitted to a candid world.\\n\\nHe has refused his Assent to Laws, the most wholesome and necessary for the public good.\\n\\nHe has forbidden his Governors to pass Laws of immediate and pressing importance, unless suspended in their operation till his Assent should be obtained; and when so suspended, he has utterly neglected to attend to them.\\n\\nHe has refused to pass other Laws for the accommodation of large districts of people, unless those people would relinquish the right of Representation in the Legislature, a right inestimable to them and formidable to tyrants only.\\n\\nHe has called together legislative bodies at places unusual, uncomfortable, and distant from the depository of their public Records, for the sole purpose of fatiguing them into compliance with his measures.\\n\\nHe has dissolved Representative Houses repeatedly, for opposing with manly firmness his invasions on the rights of the people.\\n\\nHe has refused for a long time, after such dissolutions, to cause others to be elected; whereby the Legislative powers, incapable of Annihilation, have returned to the People at large for their exercise; the State remaining in the mean time exposed to all the dangers of invasion from without, and convulsions within.\\n\\nHe has endeavoured to prevent the population of these States; for that purpose obstructing the Laws for Naturalization of Foreigners; refusing to pass others to encourage their migrations hither, and raising the conditions of new Appropriations of Lands.\\n\\nHe has obstructed the Administration of Justice, by refusing his Assent to Laws for establishing Judiciary powers.\\n\\nHe has made Judges dependent on his Will alone, for the tenure of their offices, and the amount and payment of their salaries.\\n\\nHe has erected a multitude of New Offices, and sent hither swarms of Officers to harrass our people, and eat out their substance.\\n\\nHe has kept among us, in times of peace, Standing Armies without the Consent of our legislatures.\\n\\nHe has affected to render the Military independent of and superior to the Civil power.\\n\\nHe has combined with others to subject us to a jurisdiction foreign to our constitution, and unacknowledged by our laws; giving his Assent to their Acts of pretended Legislation:\\n\\nFor Quartering large bodies of armed troops among us:\\n\\nFor protecting them, by a mock Trial, from punishment for any Murders which they should commit on the Inhabitants of these States:\\n\\nFor cutting off our Trade with all parts of the world:\\n\\nFor imposing Taxes on us without our Consent:\\n\\nFor depriving us in many cases, of the benefits of Trial by Jury:\\n\\nFor transporting us beyond Seas to be tried for pretended offences\\n\\nFor abolishing the free System of English Laws in a neighbouring Province, establishing therein an Arbitrary government, and enlarging its Boundaries so as to render it at once an example and fit instrument for introducing the same absolute rule into these Colonies:\\n\\nFor taking away our Charters, abolishing our most valuable Laws, and altering fundamentally the Forms of our Governments:\\n\\nFor suspending our own Legislatures, and declaring themselves invested with power to legislate for us in all cases whatsoever.\\n\\nHe has abdicated Government here, by declaring us out of his Protection and waging War against us.\\n\\nHe has plundered our seas, ravaged our Coasts, burnt our towns, and destroyed the lives of our people.\\n\\nHe is at this time transporting large Armies of foreign Mercenaries to compleat the works of death, desolation and tyranny, already begun with circumstances of Cruelty & perfidy scarcely paralleled in the most barbarous ages, and totally unworthy the Head of a civilized nation.\\n\\nHe has constrained our fellow Citizens taken Captive on the high Seas to bear Arms against their Country, to become the executioners of their friends and Brethren, or to fall themselves by their Hands.\\n\\nHe has excited domestic insurrections amongst us, and has endeavoured to bring on the inhabitants of our frontiers, the merciless Indian Savages, whose known rule of warfare, is an undistinguished destruction of all ages, sexes and conditions.\\n\\nIn every stage of these Oppressions We have Petitioned for Redress in the most humble terms: Our repeated Petitions have been answered only by repeated injury. A Prince whose character is thus marked by every act which may define a Tyrant, is unfit to be the ruler of a free people.\\n\\nNor have We been wanting in attentions to our Brittish brethren. We have warned them from time to time of attempts by their legislature to extend an unwarrantable jurisdiction over us. We have reminded them of the circumstances of our emigration and settlement here. We have appealed to their native justice and magnanimity, and we have conjured them by the ties of our common kindred to disavow these usurpations, which, would inevitably interrupt our connections and correspondence. They too have been deaf to the voice of justice and of consanguinity. We must, therefore, acquiesce in the necessity, which denounces our Separation, and hold them, as we hold the rest of mankind, Enemies in War, in Peace Friends.\\n\\nWe, therefore, the Representatives of the united States of America, in General Congress, Assembled, appealing to the Supreme Judge of the world for the rectitude of our intentions, do, in the Name, and by Authority of the good People of these Colonies, solemnly publish and declare, That these United Colonies are, and of Right ought to be Free and Independent States; that they are Absolved from all Allegiance to the British Crown, and that all political connection between them and the State of Great Britain, is and ought to be totally dissolved; and that as Free and Independent States, they have full Power to levy War, conclude Peace, contract Alliances, establish Commerce, and to do all other Acts and Things which Independent States may of right do. And for the support of this Declaration, with a firm reliance on the protection of divine Providence, we mutually pledge to each other our Lives, our Fortunes and our sacred Honor.\""
            ]
          },
          "metadata": {
            "tags": []
          },
          "execution_count": 6
        }
      ]
    },
    {
      "cell_type": "code",
      "metadata": {
        "id": "xUCJzGlfHdp1",
        "colab_type": "code",
        "colab": {}
      },
      "source": [
        "import re\n",
        "\n",
        "def text_cleaner(text):\n",
        "    # lower case text\n",
        "    newString = text.lower()\n",
        "    newString = re.sub(r\"'s\\b\",\"\",newString)\n",
        "    # remove punctuations\n",
        "    newString = re.sub(\"[^a-zA-Z]\", \" \", newString) \n",
        "    long_words=[]\n",
        "    # remove short word\n",
        "    for i in newString.split():\n",
        "        if len(i)>=3:                  \n",
        "            long_words.append(i)\n",
        "    return (\" \".join(long_words)).strip()\n",
        "\n",
        "# preprocess the text\n",
        "data_new = text_cleaner(data_text)\n"
      ],
      "execution_count": 0,
      "outputs": []
    },
    {
      "cell_type": "code",
      "metadata": {
        "id": "HoqLmgoYHuC_",
        "colab_type": "code",
        "colab": {
          "base_uri": "https://localhost:8080/",
          "height": 34
        },
        "outputId": "0001ffc0-6550-47dd-8fe6-672f00a15eea"
      },
      "source": [
        "def create_seq(text):\n",
        "    length = 30\n",
        "    sequences = list()\n",
        "    for i in range(length, len(text)):\n",
        "        # select sequence of tokens\n",
        "        seq = text[i-length:i+1]\n",
        "        # store\n",
        "        sequences.append(seq)\n",
        "    print('Total Sequences: %d' % len(sequences))\n",
        "    return sequences\n",
        "\n",
        "# create sequences   \n",
        "sequences = create_seq(data_new)"
      ],
      "execution_count": 8,
      "outputs": [
        {
          "output_type": "stream",
          "text": [
            "Total Sequences: 7052\n"
          ],
          "name": "stdout"
        }
      ]
    },
    {
      "cell_type": "code",
      "metadata": {
        "id": "jA8Wq9YgIoKA",
        "colab_type": "code",
        "colab": {}
      },
      "source": [
        "# create a character mapping index\n",
        "chars = sorted(list(set(data_new)))\n",
        "mapping = dict((c, i) for i, c in enumerate(chars))\n",
        "\n",
        "def encode_seq(seq):\n",
        "    sequences = list()\n",
        "    for line in seq:\n",
        "        # integer encode line\n",
        "        encoded_seq = [mapping[char] for char in line]\n",
        "        # store\n",
        "        sequences.append(encoded_seq)\n",
        "    return sequences\n",
        "\n",
        "# encode the sequences\n",
        "sequences = encode_seq(sequences)"
      ],
      "execution_count": 0,
      "outputs": []
    },
    {
      "cell_type": "code",
      "metadata": {
        "id": "YGAll-npI_7R",
        "colab_type": "code",
        "colab": {
          "base_uri": "https://localhost:8080/",
          "height": 34
        },
        "outputId": "d91e3d58-5f39-4f30-b196-803045de82fa"
      },
      "source": [
        "from sklearn.model_selection import train_test_split\n",
        "\n",
        "# vocabulary size\n",
        "vocab = len(mapping)\n",
        "sequences = np.array(sequences)\n",
        "# create X and y\n",
        "X, y = sequences[:,:-1], sequences[:,-1]\n",
        "# one hot encode y\n",
        "y = to_categorical(y, num_classes=vocab)\n",
        "# create train and validation sets\n",
        "X_tr, X_val, y_tr, y_val = train_test_split(X, y, test_size=0.1, random_state=42)\n",
        "\n",
        "print('Train shape:', X_tr.shape, 'Val shape:', X_val.shape)"
      ],
      "execution_count": 10,
      "outputs": [
        {
          "output_type": "stream",
          "text": [
            "Train shape: (6346, 30) Val shape: (706, 30)\n"
          ],
          "name": "stdout"
        }
      ]
    },
    {
      "cell_type": "code",
      "metadata": {
        "id": "vdKsr3ByJIjR",
        "colab_type": "code",
        "colab": {
          "base_uri": "https://localhost:8080/",
          "height": 1000
        },
        "outputId": "441ed13a-773b-45d1-e32e-f670e5b52eed"
      },
      "source": [
        "# define model\n",
        "model = Sequential()\n",
        "model.add(Embedding(vocab, 50, input_length=30, trainable=True))\n",
        "model.add(GRU(150, recurrent_dropout=0.1, dropout=0.1))\n",
        "model.add(Dense(vocab, activation='softmax'))\n",
        "print(model.summary())\n",
        "\n",
        "# compile the model\n",
        "model.compile(loss='categorical_crossentropy', metrics=['acc'], optimizer='adam')\n",
        "# fit the model\n",
        "model.fit(X_tr, y_tr, epochs=100, verbose=2, validation_data=(X_val, y_val))"
      ],
      "execution_count": 24,
      "outputs": [
        {
          "output_type": "stream",
          "text": [
            "WARNING: Logging before flag parsing goes to stderr.\n",
            "W0811 19:29:33.978880 140532706420608 deprecation_wrapper.py:119] From /usr/local/lib/python3.6/dist-packages/keras/backend/tensorflow_backend.py:74: The name tf.get_default_graph is deprecated. Please use tf.compat.v1.get_default_graph instead.\n",
            "\n",
            "W0811 19:29:34.034809 140532706420608 deprecation_wrapper.py:119] From /usr/local/lib/python3.6/dist-packages/keras/backend/tensorflow_backend.py:517: The name tf.placeholder is deprecated. Please use tf.compat.v1.placeholder instead.\n",
            "\n",
            "W0811 19:29:34.046029 140532706420608 deprecation_wrapper.py:119] From /usr/local/lib/python3.6/dist-packages/keras/backend/tensorflow_backend.py:4138: The name tf.random_uniform is deprecated. Please use tf.random.uniform instead.\n",
            "\n",
            "W0811 19:29:34.180732 140532706420608 deprecation_wrapper.py:119] From /usr/local/lib/python3.6/dist-packages/keras/backend/tensorflow_backend.py:133: The name tf.placeholder_with_default is deprecated. Please use tf.compat.v1.placeholder_with_default instead.\n",
            "\n",
            "W0811 19:29:34.192812 140532706420608 deprecation.py:506] From /usr/local/lib/python3.6/dist-packages/keras/backend/tensorflow_backend.py:3445: calling dropout (from tensorflow.python.ops.nn_ops) with keep_prob is deprecated and will be removed in a future version.\n",
            "Instructions for updating:\n",
            "Please use `rate` instead of `keep_prob`. Rate should be set to `rate = 1 - keep_prob`.\n",
            "W0811 19:29:34.399940 140532706420608 deprecation_wrapper.py:119] From /usr/local/lib/python3.6/dist-packages/keras/optimizers.py:790: The name tf.train.Optimizer is deprecated. Please use tf.compat.v1.train.Optimizer instead.\n",
            "\n",
            "W0811 19:29:34.423783 140532706420608 deprecation_wrapper.py:119] From /usr/local/lib/python3.6/dist-packages/keras/backend/tensorflow_backend.py:3295: The name tf.log is deprecated. Please use tf.math.log instead.\n",
            "\n",
            "W0811 19:29:34.553941 140532706420608 deprecation.py:323] From /usr/local/lib/python3.6/dist-packages/tensorflow/python/ops/math_grad.py:1250: add_dispatch_support.<locals>.wrapper (from tensorflow.python.ops.array_ops) is deprecated and will be removed in a future version.\n",
            "Instructions for updating:\n",
            "Use tf.where in 2.0, which has the same broadcast rule as np.where\n"
          ],
          "name": "stderr"
        },
        {
          "output_type": "stream",
          "text": [
            "_________________________________________________________________\n",
            "Layer (type)                 Output Shape              Param #   \n",
            "=================================================================\n",
            "embedding_1 (Embedding)      (None, 30, 50)            1350      \n",
            "_________________________________________________________________\n",
            "gru_1 (GRU)                  (None, 150)               90450     \n",
            "_________________________________________________________________\n",
            "dense_1 (Dense)              (None, 27)                4077      \n",
            "=================================================================\n",
            "Total params: 95,877\n",
            "Trainable params: 95,877\n",
            "Non-trainable params: 0\n",
            "_________________________________________________________________\n",
            "None\n",
            "Train on 6346 samples, validate on 706 samples\n",
            "Epoch 1/100\n",
            " - 13s - loss: 2.7725 - acc: 0.2019 - val_loss: 2.4098 - val_acc: 0.3017\n",
            "Epoch 2/100\n",
            " - 9s - loss: 2.2959 - acc: 0.3295 - val_loss: 2.2347 - val_acc: 0.3385\n",
            "Epoch 3/100\n",
            " - 9s - loss: 2.1634 - acc: 0.3585 - val_loss: 2.1431 - val_acc: 0.3640\n",
            "Epoch 4/100\n",
            " - 9s - loss: 2.0480 - acc: 0.3884 - val_loss: 2.0661 - val_acc: 0.4023\n",
            "Epoch 5/100\n",
            " - 9s - loss: 1.9607 - acc: 0.4100 - val_loss: 2.0049 - val_acc: 0.4207\n",
            "Epoch 6/100\n",
            " - 9s - loss: 1.8862 - acc: 0.4253 - val_loss: 1.9760 - val_acc: 0.4391\n",
            "Epoch 7/100\n",
            " - 9s - loss: 1.8165 - acc: 0.4478 - val_loss: 1.9454 - val_acc: 0.4490\n",
            "Epoch 8/100\n",
            " - 9s - loss: 1.7464 - acc: 0.4697 - val_loss: 1.9312 - val_acc: 0.4433\n",
            "Epoch 9/100\n",
            " - 9s - loss: 1.6697 - acc: 0.4928 - val_loss: 1.8979 - val_acc: 0.4561\n",
            "Epoch 10/100\n",
            " - 9s - loss: 1.6059 - acc: 0.5120 - val_loss: 1.8857 - val_acc: 0.4731\n",
            "Epoch 11/100\n",
            " - 9s - loss: 1.5351 - acc: 0.5290 - val_loss: 1.8760 - val_acc: 0.4688\n",
            "Epoch 12/100\n",
            " - 9s - loss: 1.4681 - acc: 0.5506 - val_loss: 1.8677 - val_acc: 0.4816\n",
            "Epoch 13/100\n",
            " - 9s - loss: 1.4123 - acc: 0.5599 - val_loss: 1.8835 - val_acc: 0.4788\n",
            "Epoch 14/100\n",
            " - 9s - loss: 1.3470 - acc: 0.5892 - val_loss: 1.8946 - val_acc: 0.4773\n",
            "Epoch 15/100\n",
            " - 9s - loss: 1.2966 - acc: 0.6027 - val_loss: 1.8903 - val_acc: 0.4901\n",
            "Epoch 16/100\n",
            " - 9s - loss: 1.2503 - acc: 0.6108 - val_loss: 1.8905 - val_acc: 0.4901\n",
            "Epoch 17/100\n",
            " - 9s - loss: 1.1968 - acc: 0.6273 - val_loss: 1.8931 - val_acc: 0.4901\n",
            "Epoch 18/100\n",
            " - 9s - loss: 1.1467 - acc: 0.6440 - val_loss: 1.9261 - val_acc: 0.4646\n",
            "Epoch 19/100\n",
            " - 9s - loss: 1.1017 - acc: 0.6519 - val_loss: 1.9385 - val_acc: 0.4646\n",
            "Epoch 20/100\n",
            " - 9s - loss: 1.0709 - acc: 0.6648 - val_loss: 1.9388 - val_acc: 0.4844\n",
            "Epoch 21/100\n",
            " - 9s - loss: 1.0292 - acc: 0.6710 - val_loss: 1.9732 - val_acc: 0.4844\n",
            "Epoch 22/100\n",
            " - 9s - loss: 0.9917 - acc: 0.6858 - val_loss: 1.9610 - val_acc: 0.4915\n",
            "Epoch 23/100\n",
            " - 9s - loss: 0.9576 - acc: 0.6987 - val_loss: 1.9933 - val_acc: 0.4802\n",
            "Epoch 24/100\n",
            " - 9s - loss: 0.9227 - acc: 0.7085 - val_loss: 2.0187 - val_acc: 0.4674\n",
            "Epoch 25/100\n",
            " - 9s - loss: 0.8947 - acc: 0.7173 - val_loss: 2.0797 - val_acc: 0.4759\n",
            "Epoch 26/100\n",
            " - 9s - loss: 0.8588 - acc: 0.7327 - val_loss: 2.0685 - val_acc: 0.4773\n",
            "Epoch 27/100\n",
            " - 9s - loss: 0.8423 - acc: 0.7320 - val_loss: 2.1174 - val_acc: 0.4816\n",
            "Epoch 28/100\n",
            " - 9s - loss: 0.8224 - acc: 0.7313 - val_loss: 2.1327 - val_acc: 0.4858\n",
            "Epoch 29/100\n",
            " - 9s - loss: 0.7984 - acc: 0.7454 - val_loss: 2.1462 - val_acc: 0.4674\n",
            "Epoch 30/100\n",
            " - 9s - loss: 0.7654 - acc: 0.7561 - val_loss: 2.1655 - val_acc: 0.4674\n",
            "Epoch 31/100\n",
            " - 9s - loss: 0.7398 - acc: 0.7657 - val_loss: 2.1878 - val_acc: 0.4816\n",
            "Epoch 32/100\n",
            " - 9s - loss: 0.7280 - acc: 0.7688 - val_loss: 2.2208 - val_acc: 0.4773\n",
            "Epoch 33/100\n",
            " - 9s - loss: 0.7084 - acc: 0.7758 - val_loss: 2.2599 - val_acc: 0.4717\n",
            "Epoch 34/100\n",
            " - 9s - loss: 0.6965 - acc: 0.7734 - val_loss: 2.2412 - val_acc: 0.4802\n",
            "Epoch 35/100\n",
            " - 9s - loss: 0.6676 - acc: 0.7855 - val_loss: 2.2964 - val_acc: 0.4731\n",
            "Epoch 36/100\n",
            " - 9s - loss: 0.6567 - acc: 0.7873 - val_loss: 2.2823 - val_acc: 0.4717\n",
            "Epoch 37/100\n",
            " - 8s - loss: 0.6440 - acc: 0.7920 - val_loss: 2.3201 - val_acc: 0.4788\n",
            "Epoch 38/100\n",
            " - 8s - loss: 0.6297 - acc: 0.7969 - val_loss: 2.3506 - val_acc: 0.4816\n",
            "Epoch 39/100\n",
            " - 9s - loss: 0.6121 - acc: 0.8027 - val_loss: 2.4036 - val_acc: 0.4717\n",
            "Epoch 40/100\n",
            " - 9s - loss: 0.6038 - acc: 0.8030 - val_loss: 2.3637 - val_acc: 0.4901\n",
            "Epoch 41/100\n",
            " - 9s - loss: 0.5985 - acc: 0.8041 - val_loss: 2.4014 - val_acc: 0.4816\n",
            "Epoch 42/100\n",
            " - 9s - loss: 0.5788 - acc: 0.8066 - val_loss: 2.4234 - val_acc: 0.4759\n",
            "Epoch 43/100\n",
            " - 8s - loss: 0.5838 - acc: 0.8063 - val_loss: 2.4658 - val_acc: 0.4773\n",
            "Epoch 44/100\n",
            " - 9s - loss: 0.5592 - acc: 0.8155 - val_loss: 2.5263 - val_acc: 0.4674\n",
            "Epoch 45/100\n",
            " - 8s - loss: 0.5477 - acc: 0.8237 - val_loss: 2.5289 - val_acc: 0.4688\n",
            "Epoch 46/100\n",
            " - 8s - loss: 0.5420 - acc: 0.8213 - val_loss: 2.5678 - val_acc: 0.4731\n",
            "Epoch 47/100\n",
            " - 8s - loss: 0.5302 - acc: 0.8297 - val_loss: 2.6005 - val_acc: 0.4660\n",
            "Epoch 48/100\n",
            " - 9s - loss: 0.5268 - acc: 0.8260 - val_loss: 2.5689 - val_acc: 0.4731\n",
            "Epoch 49/100\n",
            " - 8s - loss: 0.5179 - acc: 0.8289 - val_loss: 2.6216 - val_acc: 0.4646\n",
            "Epoch 50/100\n",
            " - 8s - loss: 0.5128 - acc: 0.8347 - val_loss: 2.6594 - val_acc: 0.4547\n",
            "Epoch 51/100\n",
            " - 9s - loss: 0.5028 - acc: 0.8369 - val_loss: 2.6428 - val_acc: 0.4589\n",
            "Epoch 52/100\n",
            " - 9s - loss: 0.5075 - acc: 0.8311 - val_loss: 2.6788 - val_acc: 0.4603\n",
            "Epoch 53/100\n",
            " - 9s - loss: 0.4874 - acc: 0.8419 - val_loss: 2.6960 - val_acc: 0.4618\n",
            "Epoch 54/100\n",
            " - 9s - loss: 0.4849 - acc: 0.8366 - val_loss: 2.6941 - val_acc: 0.4646\n",
            "Epoch 55/100\n",
            " - 9s - loss: 0.4765 - acc: 0.8437 - val_loss: 2.7402 - val_acc: 0.4575\n",
            "Epoch 56/100\n",
            " - 9s - loss: 0.4673 - acc: 0.8456 - val_loss: 2.7630 - val_acc: 0.4632\n",
            "Epoch 57/100\n",
            " - 8s - loss: 0.4657 - acc: 0.8495 - val_loss: 2.7743 - val_acc: 0.4688\n",
            "Epoch 58/100\n",
            " - 8s - loss: 0.4537 - acc: 0.8519 - val_loss: 2.7886 - val_acc: 0.4660\n",
            "Epoch 59/100\n",
            " - 8s - loss: 0.4580 - acc: 0.8481 - val_loss: 2.8293 - val_acc: 0.4462\n",
            "Epoch 60/100\n",
            " - 9s - loss: 0.4394 - acc: 0.8533 - val_loss: 2.8069 - val_acc: 0.4533\n",
            "Epoch 61/100\n",
            " - 9s - loss: 0.4505 - acc: 0.8486 - val_loss: 2.8259 - val_acc: 0.4618\n",
            "Epoch 62/100\n",
            " - 9s - loss: 0.4418 - acc: 0.8531 - val_loss: 2.8411 - val_acc: 0.4490\n",
            "Epoch 63/100\n",
            " - 8s - loss: 0.4333 - acc: 0.8571 - val_loss: 2.8550 - val_acc: 0.4674\n",
            "Epoch 64/100\n",
            " - 8s - loss: 0.4363 - acc: 0.8547 - val_loss: 2.8545 - val_acc: 0.4589\n",
            "Epoch 65/100\n",
            " - 8s - loss: 0.4266 - acc: 0.8593 - val_loss: 2.8953 - val_acc: 0.4632\n",
            "Epoch 66/100\n",
            " - 8s - loss: 0.4247 - acc: 0.8538 - val_loss: 2.8790 - val_acc: 0.4688\n",
            "Epoch 67/100\n",
            " - 8s - loss: 0.4148 - acc: 0.8615 - val_loss: 2.9417 - val_acc: 0.4674\n",
            "Epoch 68/100\n",
            " - 9s - loss: 0.3996 - acc: 0.8664 - val_loss: 2.9308 - val_acc: 0.4688\n",
            "Epoch 69/100\n",
            " - 8s - loss: 0.3962 - acc: 0.8643 - val_loss: 2.9175 - val_acc: 0.4759\n",
            "Epoch 70/100\n",
            " - 9s - loss: 0.3932 - acc: 0.8678 - val_loss: 2.9450 - val_acc: 0.4589\n",
            "Epoch 71/100\n",
            " - 9s - loss: 0.4075 - acc: 0.8631 - val_loss: 2.9571 - val_acc: 0.4618\n",
            "Epoch 72/100\n",
            " - 8s - loss: 0.4154 - acc: 0.8571 - val_loss: 2.9630 - val_acc: 0.4603\n",
            "Epoch 73/100\n",
            " - 8s - loss: 0.4012 - acc: 0.8667 - val_loss: 2.9523 - val_acc: 0.4589\n",
            "Epoch 74/100\n",
            " - 8s - loss: 0.4022 - acc: 0.8643 - val_loss: 2.9487 - val_acc: 0.4646\n",
            "Epoch 75/100\n",
            " - 8s - loss: 0.4016 - acc: 0.8664 - val_loss: 2.9718 - val_acc: 0.4618\n",
            "Epoch 76/100\n",
            " - 8s - loss: 0.3858 - acc: 0.8675 - val_loss: 3.0028 - val_acc: 0.4731\n",
            "Epoch 77/100\n",
            " - 8s - loss: 0.3869 - acc: 0.8678 - val_loss: 3.0640 - val_acc: 0.4646\n",
            "Epoch 78/100\n",
            " - 8s - loss: 0.3734 - acc: 0.8750 - val_loss: 3.0295 - val_acc: 0.4717\n",
            "Epoch 79/100\n",
            " - 8s - loss: 0.3633 - acc: 0.8763 - val_loss: 3.0074 - val_acc: 0.4561\n",
            "Epoch 80/100\n",
            " - 8s - loss: 0.3743 - acc: 0.8739 - val_loss: 3.0335 - val_acc: 0.4674\n",
            "Epoch 81/100\n",
            " - 8s - loss: 0.3633 - acc: 0.8776 - val_loss: 3.0560 - val_acc: 0.4476\n",
            "Epoch 82/100\n",
            " - 8s - loss: 0.3654 - acc: 0.8782 - val_loss: 3.0993 - val_acc: 0.4589\n",
            "Epoch 83/100\n",
            " - 8s - loss: 0.3787 - acc: 0.8683 - val_loss: 3.0874 - val_acc: 0.4547\n",
            "Epoch 84/100\n",
            " - 8s - loss: 0.3671 - acc: 0.8761 - val_loss: 3.1052 - val_acc: 0.4561\n",
            "Epoch 85/100\n",
            " - 8s - loss: 0.3552 - acc: 0.8809 - val_loss: 3.1272 - val_acc: 0.4462\n",
            "Epoch 86/100\n",
            " - 8s - loss: 0.3531 - acc: 0.8826 - val_loss: 3.1459 - val_acc: 0.4589\n",
            "Epoch 87/100\n",
            " - 8s - loss: 0.3553 - acc: 0.8807 - val_loss: 3.1287 - val_acc: 0.4603\n",
            "Epoch 88/100\n",
            " - 8s - loss: 0.3712 - acc: 0.8739 - val_loss: 3.1859 - val_acc: 0.4533\n",
            "Epoch 89/100\n",
            " - 8s - loss: 0.3371 - acc: 0.8884 - val_loss: 3.1601 - val_acc: 0.4674\n",
            "Epoch 90/100\n",
            " - 8s - loss: 0.3514 - acc: 0.8845 - val_loss: 3.1641 - val_acc: 0.4688\n",
            "Epoch 91/100\n",
            " - 9s - loss: 0.3527 - acc: 0.8806 - val_loss: 3.1651 - val_acc: 0.4547\n",
            "Epoch 92/100\n",
            " - 8s - loss: 0.3526 - acc: 0.8780 - val_loss: 3.2120 - val_acc: 0.4575\n",
            "Epoch 93/100\n",
            " - 8s - loss: 0.3514 - acc: 0.8782 - val_loss: 3.2222 - val_acc: 0.4476\n",
            "Epoch 94/100\n",
            " - 8s - loss: 0.3427 - acc: 0.8826 - val_loss: 3.2073 - val_acc: 0.4717\n",
            "Epoch 95/100\n",
            " - 9s - loss: 0.3350 - acc: 0.8889 - val_loss: 3.2411 - val_acc: 0.4674\n",
            "Epoch 96/100\n",
            " - 8s - loss: 0.3268 - acc: 0.8891 - val_loss: 3.2848 - val_acc: 0.4504\n",
            "Epoch 97/100\n",
            " - 8s - loss: 0.3424 - acc: 0.8858 - val_loss: 3.2954 - val_acc: 0.4603\n",
            "Epoch 98/100\n",
            " - 9s - loss: 0.3436 - acc: 0.8813 - val_loss: 3.2857 - val_acc: 0.4547\n",
            "Epoch 99/100\n",
            " - 8s - loss: 0.3220 - acc: 0.8933 - val_loss: 3.2799 - val_acc: 0.4603\n",
            "Epoch 100/100\n",
            " - 8s - loss: 0.3254 - acc: 0.8894 - val_loss: 3.2794 - val_acc: 0.4575\n"
          ],
          "name": "stdout"
        },
        {
          "output_type": "execute_result",
          "data": {
            "text/plain": [
              "<keras.callbacks.History at 0x7fd006f8a908>"
            ]
          },
          "metadata": {
            "tags": []
          },
          "execution_count": 24
        }
      ]
    },
    {
      "cell_type": "code",
      "metadata": {
        "id": "q6uWNb2NJYRn",
        "colab_type": "code",
        "colab": {}
      },
      "source": [
        "# generate a sequence of characters with a language model\n",
        "def generate_seq(model, mapping, seq_length, seed_text, n_chars):\n",
        "\tin_text = seed_text\n",
        "\t# generate a fixed number of characters\n",
        "\tfor _ in range(n_chars):\n",
        "\t\t# encode the characters as integers\n",
        "\t\tencoded = [mapping[char] for char in in_text]\n",
        "\t\t# truncate sequences to a fixed length\n",
        "\t\tencoded = pad_sequences([encoded], maxlen=seq_length, truncating='pre')\n",
        "\t\t# predict character\n",
        "\t\tyhat = model.predict_classes(encoded, verbose=0)\n",
        "\t\t# reverse map integer to character\n",
        "\t\tout_char = ''\n",
        "\t\tfor char, index in mapping.items():\n",
        "\t\t\tif index == yhat:\n",
        "\t\t\t\tout_char = char\n",
        "\t\t\t\tbreak\n",
        "\t\t# append to input\n",
        "\t\tin_text += char\n",
        "\treturn in_text"
      ],
      "execution_count": 0,
      "outputs": []
    },
    {
      "cell_type": "code",
      "metadata": {
        "id": "G2zdjfFqNjKH",
        "colab_type": "code",
        "colab": {
          "base_uri": "https://localhost:8080/",
          "height": 50
        },
        "outputId": "7c6084f5-652b-404e-edd8-fe79c5af4942"
      },
      "source": [
        "inp = 'large armies'\n",
        "print(len(inp))\n",
        "print(generate_seq(model,mapping,30,inp.lower(),15))"
      ],
      "execution_count": 36,
      "outputs": [
        {
          "output_type": "stream",
          "text": [
            "12\n",
            "large armies foreign our co\n"
          ],
          "name": "stdout"
        }
      ]
    },
    {
      "cell_type": "code",
      "metadata": {
        "id": "U0AeQ6ozOCu7",
        "colab_type": "code",
        "colab": {
          "base_uri": "https://localhost:8080/",
          "height": 558
        },
        "outputId": "7c104cfb-245e-49a3-9c39-24dffc861fd2"
      },
      "source": [
        "# GPT-2 model\n",
        "!pip install pytorch-transformers\n"
      ],
      "execution_count": 37,
      "outputs": [
        {
          "output_type": "stream",
          "text": [
            "Collecting pytorch-transformers\n",
            "\u001b[?25l  Downloading https://files.pythonhosted.org/packages/40/b5/2d78e74001af0152ee61d5ad4e290aec9a1e43925b21df2dc74ec100f1ab/pytorch_transformers-1.0.0-py3-none-any.whl (137kB)\n",
            "\u001b[K     |████████████████████████████████| 143kB 1.4MB/s \n",
            "\u001b[?25hRequirement already satisfied: requests in /usr/local/lib/python3.6/dist-packages (from pytorch-transformers) (2.21.0)\n",
            "Requirement already satisfied: boto3 in /usr/local/lib/python3.6/dist-packages (from pytorch-transformers) (1.9.202)\n",
            "Collecting regex (from pytorch-transformers)\n",
            "\u001b[?25l  Downloading https://files.pythonhosted.org/packages/6f/4e/1b178c38c9a1a184288f72065a65ca01f3154df43c6ad898624149b8b4e0/regex-2019.06.08.tar.gz (651kB)\n",
            "\u001b[K     |████████████████████████████████| 655kB 54.0MB/s \n",
            "\u001b[?25hRequirement already satisfied: numpy in /usr/local/lib/python3.6/dist-packages (from pytorch-transformers) (1.16.4)\n",
            "Requirement already satisfied: torch>=0.4.1 in /usr/local/lib/python3.6/dist-packages (from pytorch-transformers) (1.1.0)\n",
            "Requirement already satisfied: tqdm in /usr/local/lib/python3.6/dist-packages (from pytorch-transformers) (4.28.1)\n",
            "Collecting sentencepiece (from pytorch-transformers)\n",
            "\u001b[?25l  Downloading https://files.pythonhosted.org/packages/00/95/7f357995d5eb1131aa2092096dca14a6fc1b1d2860bd99c22a612e1d1019/sentencepiece-0.1.82-cp36-cp36m-manylinux1_x86_64.whl (1.0MB)\n",
            "\u001b[K     |████████████████████████████████| 1.0MB 52.2MB/s \n",
            "\u001b[?25hRequirement already satisfied: certifi>=2017.4.17 in /usr/local/lib/python3.6/dist-packages (from requests->pytorch-transformers) (2019.6.16)\n",
            "Requirement already satisfied: urllib3<1.25,>=1.21.1 in /usr/local/lib/python3.6/dist-packages (from requests->pytorch-transformers) (1.24.3)\n",
            "Requirement already satisfied: idna<2.9,>=2.5 in /usr/local/lib/python3.6/dist-packages (from requests->pytorch-transformers) (2.8)\n",
            "Requirement already satisfied: chardet<3.1.0,>=3.0.2 in /usr/local/lib/python3.6/dist-packages (from requests->pytorch-transformers) (3.0.4)\n",
            "Requirement already satisfied: s3transfer<0.3.0,>=0.2.0 in /usr/local/lib/python3.6/dist-packages (from boto3->pytorch-transformers) (0.2.1)\n",
            "Requirement already satisfied: jmespath<1.0.0,>=0.7.1 in /usr/local/lib/python3.6/dist-packages (from boto3->pytorch-transformers) (0.9.4)\n",
            "Requirement already satisfied: botocore<1.13.0,>=1.12.202 in /usr/local/lib/python3.6/dist-packages (from boto3->pytorch-transformers) (1.12.202)\n",
            "Requirement already satisfied: docutils<0.15,>=0.10 in /usr/local/lib/python3.6/dist-packages (from botocore<1.13.0,>=1.12.202->boto3->pytorch-transformers) (0.14)\n",
            "Requirement already satisfied: python-dateutil<3.0.0,>=2.1; python_version >= \"2.7\" in /usr/local/lib/python3.6/dist-packages (from botocore<1.13.0,>=1.12.202->boto3->pytorch-transformers) (2.5.3)\n",
            "Requirement already satisfied: six>=1.5 in /usr/local/lib/python3.6/dist-packages (from python-dateutil<3.0.0,>=2.1; python_version >= \"2.7\"->botocore<1.13.0,>=1.12.202->boto3->pytorch-transformers) (1.12.0)\n",
            "Building wheels for collected packages: regex\n",
            "  Building wheel for regex (setup.py) ... \u001b[?25l\u001b[?25hdone\n",
            "  Created wheel for regex: filename=regex-2019.6.8-cp36-cp36m-linux_x86_64.whl size=604152 sha256=8fad6ec528826bb55d8138f74e1530751b2a88337dbb90e018c3776718560284\n",
            "  Stored in directory: /root/.cache/pip/wheels/35/e4/80/abf3b33ba89cf65cd262af8a22a5a999cc28fbfabea6b38473\n",
            "Successfully built regex\n",
            "Installing collected packages: regex, sentencepiece, pytorch-transformers\n",
            "Successfully installed pytorch-transformers-1.0.0 regex-2019.6.8 sentencepiece-0.1.82\n"
          ],
          "name": "stdout"
        }
      ]
    },
    {
      "cell_type": "code",
      "metadata": {
        "id": "HrurZwRIOtvZ",
        "colab_type": "code",
        "colab": {
          "base_uri": "https://localhost:8080/",
          "height": 34
        },
        "outputId": "d2cf8ecf-5216-4275-ea50-e4ab88d69211"
      },
      "source": [
        "# Import required libraries\n",
        "import torch\n",
        "from pytorch_transformers import GPT2Tokenizer, GPT2LMHeadModel\n",
        "\n",
        "# Load pre-trained model tokenizer (vocabulary)\n",
        "tokenizer = GPT2Tokenizer.from_pretrained('gpt2')\n",
        "\n",
        "# Encode a text inputs\n",
        "text = \"the sky is \"\n",
        "indexed_tokens = tokenizer.encode(text)\n",
        "\n",
        "# Convert indexed tokens in a PyTorch tensor\n",
        "tokens_tensor = torch.tensor([indexed_tokens])\n",
        "\n",
        "# Load pre-trained model (weights)\n",
        "model = GPT2LMHeadModel.from_pretrained('gpt2')\n",
        "\n",
        "# Set the model in evaluation mode to deactivate the DropOut modules\n",
        "model.eval()\n",
        "\n",
        "# If you have a GPU, put everything on cuda\n",
        "tokens_tensor = tokens_tensor.to('cuda')\n",
        "model.to('cuda')\n",
        "\n",
        "# Predict all tokens\n",
        "with torch.no_grad():\n",
        "    outputs = model(tokens_tensor)\n",
        "    predictions = outputs[0]\n",
        "\n",
        "# Get the predicted next sub-word\n",
        "predicted_index = torch.argmax(predictions[0, -1, :]).item()\n",
        "predicted_text = tokenizer.decode(indexed_tokens + [predicted_index])\n",
        "\n",
        "# Print the predicted word\n",
        "print(predicted_text)"
      ],
      "execution_count": 43,
      "outputs": [
        {
          "output_type": "stream",
          "text": [
            "the sky is blue\n"
          ],
          "name": "stdout"
        }
      ]
    },
    {
      "cell_type": "code",
      "metadata": {
        "id": "mwIGpcJTPBIW",
        "colab_type": "code",
        "colab": {
          "base_uri": "https://localhost:8080/",
          "height": 134
        },
        "outputId": "4148da18-4fe9-4d25-8bed-9908efa0f685"
      },
      "source": [
        "!git clone https://github.com/huggingface/pytorch-transformers.git\n"
      ],
      "execution_count": 44,
      "outputs": [
        {
          "output_type": "stream",
          "text": [
            "Cloning into 'pytorch-transformers'...\n",
            "remote: Enumerating objects: 14, done.\u001b[K\n",
            "remote: Counting objects:   7% (1/14)\u001b[K\rremote: Counting objects:  14% (2/14)\u001b[K\rremote: Counting objects:  21% (3/14)\u001b[K\rremote: Counting objects:  28% (4/14)\u001b[K\rremote: Counting objects:  35% (5/14)\u001b[K\rremote: Counting objects:  42% (6/14)\u001b[K\rremote: Counting objects:  50% (7/14)\u001b[K\rremote: Counting objects:  57% (8/14)\u001b[K\rremote: Counting objects:  64% (9/14)\u001b[K\rremote: Counting objects:  71% (10/14)\u001b[K\rremote: Counting objects:  78% (11/14)\u001b[K\rremote: Counting objects:  85% (12/14)\u001b[K\rremote: Counting objects:  92% (13/14)\u001b[K\rremote: Counting objects: 100% (14/14)\u001b[K\rremote: Counting objects: 100% (14/14), done.\u001b[K\n",
            "remote: Compressing objects:   8% (1/12)\u001b[K\rremote: Compressing objects:  16% (2/12)\u001b[K\rremote: Compressing objects:  25% (3/12)\u001b[K\rremote: Compressing objects:  33% (4/12)\u001b[K\rremote: Compressing objects:  41% (5/12)\u001b[K\rremote: Compressing objects:  50% (6/12)\u001b[K\rremote: Compressing objects:  58% (7/12)\u001b[K\rremote: Compressing objects:  66% (8/12)\u001b[K\rremote: Compressing objects:  75% (9/12)\u001b[K\rremote: Compressing objects:  83% (10/12)\u001b[K\rremote: Compressing objects:  91% (11/12)\u001b[K\rremote: Compressing objects: 100% (12/12)\u001b[K\rremote: Compressing objects: 100% (12/12), done.\u001b[K\n",
            "Receiving objects:   0% (1/6024)   \rReceiving objects:   1% (61/6024)   \rReceiving objects:   2% (121/6024)   \rReceiving objects:   3% (181/6024)   \rReceiving objects:   4% (241/6024)   \rReceiving objects:   5% (302/6024)   \rReceiving objects:   6% (362/6024)   \rReceiving objects:   7% (422/6024)   \rReceiving objects:   8% (482/6024)   \rReceiving objects:   9% (543/6024)   \rReceiving objects:  10% (603/6024)   \rReceiving objects:  11% (663/6024)   \rReceiving objects:  12% (723/6024)   \rReceiving objects:  13% (784/6024)   \rReceiving objects:  14% (844/6024)   \rReceiving objects:  15% (904/6024)   \rReceiving objects:  16% (964/6024)   \rReceiving objects:  17% (1025/6024)   \rReceiving objects:  18% (1085/6024)   \rReceiving objects:  19% (1145/6024)   \rReceiving objects:  20% (1205/6024)   \rReceiving objects:  21% (1266/6024)   \rReceiving objects:  22% (1326/6024)   \rReceiving objects:  23% (1386/6024)   \rReceiving objects:  24% (1446/6024)   \rReceiving objects:  25% (1506/6024)   \rReceiving objects:  26% (1567/6024)   \rReceiving objects:  27% (1627/6024)   \rReceiving objects:  28% (1687/6024)   \rReceiving objects:  29% (1747/6024)   \rReceiving objects:  30% (1808/6024)   \rReceiving objects:  31% (1868/6024)   \rReceiving objects:  32% (1928/6024)   \rReceiving objects:  33% (1988/6024)   \rReceiving objects:  34% (2049/6024)   \rReceiving objects:  35% (2109/6024)   \rReceiving objects:  36% (2169/6024)   \rReceiving objects:  37% (2229/6024)   \rReceiving objects:  38% (2290/6024)   \rReceiving objects:  39% (2350/6024)   \rReceiving objects:  40% (2410/6024)   \rReceiving objects:  41% (2470/6024)   \rReceiving objects:  42% (2531/6024)   \rReceiving objects:  43% (2591/6024)   \rReceiving objects:  44% (2651/6024)   \rReceiving objects:  45% (2711/6024)   \rReceiving objects:  46% (2772/6024)   \rReceiving objects:  47% (2832/6024)   \rReceiving objects:  48% (2892/6024)   \rReceiving objects:  49% (2952/6024)   \rReceiving objects:  50% (3012/6024)   \rReceiving objects:  51% (3073/6024)   \rReceiving objects:  52% (3133/6024)   \rReceiving objects:  53% (3193/6024)   \rReceiving objects:  54% (3253/6024)   \rReceiving objects:  55% (3314/6024)   \rReceiving objects:  56% (3374/6024)   \rReceiving objects:  57% (3434/6024)   \rReceiving objects:  58% (3494/6024)   \rReceiving objects:  59% (3555/6024)   \rReceiving objects:  60% (3615/6024)   \rReceiving objects:  61% (3675/6024)   \rReceiving objects:  62% (3735/6024)   \rReceiving objects:  63% (3796/6024)   \rReceiving objects:  64% (3856/6024)   \rReceiving objects:  65% (3916/6024)   \rReceiving objects:  66% (3976/6024)   \rReceiving objects:  67% (4037/6024)   \rReceiving objects:  68% (4097/6024)   \rReceiving objects:  69% (4157/6024)   \rReceiving objects:  70% (4217/6024)   \rReceiving objects:  71% (4278/6024)   \rReceiving objects:  72% (4338/6024)   \rReceiving objects:  73% (4398/6024)   \rReceiving objects:  74% (4458/6024)   \rReceiving objects:  75% (4518/6024)   \rReceiving objects:  76% (4579/6024)   \rReceiving objects:  77% (4639/6024)   \rReceiving objects:  78% (4699/6024)   \rReceiving objects:  79% (4759/6024)   \rReceiving objects:  80% (4820/6024)   \rReceiving objects:  81% (4880/6024)   \rReceiving objects:  82% (4940/6024)   \rReceiving objects:  83% (5000/6024)   \rReceiving objects:  84% (5061/6024)   \rReceiving objects:  85% (5121/6024)   \rReceiving objects:  86% (5181/6024)   \rReceiving objects:  87% (5241/6024)   \rReceiving objects:  88% (5302/6024)   \rReceiving objects:  89% (5362/6024)   \rReceiving objects:  90% (5422/6024)   \rReceiving objects:  91% (5482/6024)   \rReceiving objects:  92% (5543/6024)   \rReceiving objects:  93% (5603/6024)   \rReceiving objects:  94% (5663/6024)   \rReceiving objects:  95% (5723/6024)   \rReceiving objects:  96% (5784/6024)   \rReceiving objects:  97% (5844/6024)   \rremote: Total 6024 (delta 5), reused 5 (delta 2), pack-reused 6010\u001b[K\n",
            "Receiving objects: 100% (6024/6024), 3.27 MiB | 16.40 MiB/s, done.\n",
            "Resolving deltas: 100% (4304/4304), done.\n"
          ],
          "name": "stdout"
        }
      ]
    },
    {
      "cell_type": "code",
      "metadata": {
        "id": "UFvmIc--QTjQ",
        "colab_type": "code",
        "colab": {
          "base_uri": "https://localhost:8080/",
          "height": 894
        },
        "outputId": "18f3c5d8-8068-47b6-f36b-372dbaac01ed"
      },
      "source": [
        "!python pytorch-transformers/examples/run_generation.py \\\n",
        "    --model_type=gpt2 \\\n",
        "    --length=100 \\\n",
        "    --model_name_or_path=gpt2 \\"
      ],
      "execution_count": 45,
      "outputs": [
        {
          "output_type": "stream",
          "text": [
            "08/11/2019 19:57:26 - INFO - pytorch_transformers.tokenization_utils -   loading file https://s3.amazonaws.com/models.huggingface.co/bert/gpt2-vocab.json from cache at /root/.cache/torch/pytorch_transformers/f2808208f9bec2320371a9f5f891c184ae0b674ef866b79c58177067d15732dd.1512018be4ba4e8726e41b9145129dc30651ea4fec86aa61f4b9f40bf94eac71\n",
            "08/11/2019 19:57:26 - INFO - pytorch_transformers.tokenization_utils -   loading file https://s3.amazonaws.com/models.huggingface.co/bert/gpt2-merges.txt from cache at /root/.cache/torch/pytorch_transformers/d629f792e430b3c76a1291bb2766b0a047e36fae0588f9dbc1ae51decdff691b.70bec105b4158ed9a1747fea67a43f5dee97855c64d62b6ec3742f4cfdb5feda\n",
            "08/11/2019 19:57:26 - INFO - pytorch_transformers.modeling_utils -   loading configuration file https://s3.amazonaws.com/models.huggingface.co/bert/gpt2-config.json from cache at /root/.cache/torch/pytorch_transformers/4be02c5697d91738003fb1685c9872f284166aa32e061576bbe6aaeb95649fcf.085d5f6a8e7812ea05ff0e6ed0645ab2e75d80387ad55c1ad9806ee70d272f80\n",
            "08/11/2019 19:57:26 - INFO - pytorch_transformers.modeling_utils -   Model config {\n",
            "  \"attn_pdrop\": 0.1,\n",
            "  \"embd_pdrop\": 0.1,\n",
            "  \"finetuning_task\": null,\n",
            "  \"initializer_range\": 0.02,\n",
            "  \"layer_norm_epsilon\": 1e-05,\n",
            "  \"n_ctx\": 1024,\n",
            "  \"n_embd\": 768,\n",
            "  \"n_head\": 12,\n",
            "  \"n_layer\": 12,\n",
            "  \"n_positions\": 1024,\n",
            "  \"num_labels\": 1,\n",
            "  \"output_attentions\": false,\n",
            "  \"output_hidden_states\": false,\n",
            "  \"resid_pdrop\": 0.1,\n",
            "  \"summary_activation\": null,\n",
            "  \"summary_first_dropout\": 0.1,\n",
            "  \"summary_proj_to_labels\": true,\n",
            "  \"summary_type\": \"token_ids\",\n",
            "  \"summary_use_proj\": true,\n",
            "  \"torchscript\": false,\n",
            "  \"vocab_size\": 50257\n",
            "}\n",
            "\n",
            "08/11/2019 19:57:26 - INFO - pytorch_transformers.modeling_utils -   loading weights file https://s3.amazonaws.com/models.huggingface.co/bert/gpt2-pytorch_model.bin from cache at /root/.cache/torch/pytorch_transformers/4295d67f022061768f4adc386234dbdb781c814c39662dd1662221c309962c55.778cf36f5c4e5d94c8cd9cefcf2a580c8643570eb327f0d4a1f007fab2acbdf1\n",
            "Namespace(device=device(type='cuda'), length=100, model_name_or_path='gpt2', model_type='gpt2', n_gpu=1, no_cuda=False, padding_text='', prompt='', seed=42, temperature=1.0, top_k=0, top_p=0.9)\n",
            "Model prompt >>> model\n",
            "100% 100/100 [00:01<00:00, 54.35it/s]\n",
            " important customers with high awareness of their impact on democracy, values, and social sustainability; for example, they improve the compliance and informed consent policies for the public sector; and they provide services which enable users to participate with confidence in their own governance and of public officials.\n",
            "\n",
            "Licensing and Transparency Act, UK Part 6\n",
            "\n",
            "http://www.legislation.gov.uk/legislation/delivery/authorisations/licensing_and_transparency.pdf\n",
            "\n",
            "3\n",
            "Model prompt >>> GPT-2\n",
            "100% 100/100 [00:01<00:00, 55.79it/s]\n",
            ".1.dylib v12.0.0.dylibv12.0.0.dylibv12.0.0.dylibv12.0.0.dylibv12.0.0.dylibv12.0.0.dylibv12.0.0.dylibv12.0.0.dylibv12.0.0.dylibv12.0.0.dylibv12.0.0.dylibv12.0.0.dylib\n",
            "Model prompt >>> gpt-2\n",
            "100% 100/100 [00:01<00:00, 55.65it/s]\n",
            ".6.4-0ubuntu1 amd64 Kernel Environment (MPEG-4.9-1) Driver on Mesa, Version 8.3 Base/Booting ISO 2017-10-20-19, 18200(S) Nvidia Corporation Driver (Win32-radeon) Driver on Nvidia Corporation Graphics & Sound 3.0: 1.51 ppc2 (EPU) 2.1.2 (C2064-SP2) Driver on Nvidia Corporation NVIDIA Kernel Environment 2\n",
            "Model prompt >>> Traceback (most recent call last):\n",
            "  File \"pytorch-transformers/examples/run_generation.py\", line 195, in <module>\n",
            "    main()\n",
            "  File \"pytorch-transformers/examples/run_generation.py\", line 171, in main\n",
            "    raw_text = args.prompt if args.prompt else input(\"Model prompt >>> \")\n",
            "KeyboardInterrupt\n",
            "^C\n"
          ],
          "name": "stdout"
        }
      ]
    },
    {
      "cell_type": "code",
      "metadata": {
        "id": "zLqnDaoVQcco",
        "colab_type": "code",
        "colab": {}
      },
      "source": [
        ""
      ],
      "execution_count": 0,
      "outputs": []
    }
  ]
}